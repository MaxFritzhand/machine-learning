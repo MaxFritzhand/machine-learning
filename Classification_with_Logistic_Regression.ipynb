{
  "nbformat": 4,
  "nbformat_minor": 0,
  "metadata": {
    "colab": {
      "provenance": []
    },
    "kernelspec": {
      "name": "python3",
      "display_name": "Python 3"
    },
    "language_info": {
      "name": "python"
    }
  },
  "cells": [
    {
      "cell_type": "markdown",
      "source": [
        "# Classification with Logistic Regression\n",
        "\n",
        "Reference: https://scikit-learn.org/stable/modules/generated/sklearn.linear_model.LogisticRegression.html"
      ],
      "metadata": {
        "id": "aCJw8fTKi2VJ"
      }
    },
    {
      "cell_type": "markdown",
      "source": [
        "## Step 0: Import Modules"
      ],
      "metadata": {
        "id": "4Ly32BfTOpCq"
      }
    },
    {
      "cell_type": "code",
      "execution_count": null,
      "metadata": {
        "id": "DdhL4ZspOcig"
      },
      "outputs": [],
      "source": [
        "import numpy as np\n",
        "import pandas as pd"
      ]
    },
    {
      "cell_type": "markdown",
      "source": [
        "## Step 1: Setup dataset \n",
        "\n",
        "\n",
        "\n",
        "Run the follwoing code to download a csv file named **heart_2020_cleaned.csv** to your colab and load it to a DataFrame named **df**\n",
        "\n",
        "Dataset reference: \n",
        "https://www.kaggle.com/datasets/kamilpytlak/personal-key-indicators-of-heart-disease?resource=download"
      ],
      "metadata": {
        "id": "JvXvwuaVjQN2"
      }
    },
    {
      "cell_type": "code",
      "source": [
        "#!gdown 1I0Jhc4apGYQtfzndbLG-YE--UZuWTPpc"
      ],
      "metadata": {
        "colab": {
          "base_uri": "https://localhost:8080/"
        },
        "id": "XgGQsGU5nGb8",
        "outputId": "6679bda2-73eb-4673-d057-f7998d8eec16"
      },
      "execution_count": null,
      "outputs": [
        {
          "output_type": "stream",
          "name": "stdout",
          "text": [
            "Downloading...\n",
            "From: https://drive.google.com/uc?id=1I0Jhc4apGYQtfzndbLG-YE--UZuWTPpc\n",
            "To: /content/heart_2020_cleaned.csv\n",
            "\r  0% 0.00/25.2M [00:00<?, ?B/s]\r 89% 22.5M/25.2M [00:00<00:00, 225MB/s]\r100% 25.2M/25.2M [00:00<00:00, 232MB/s]\n"
          ]
        }
      ]
    },
    {
      "cell_type": "code",
      "source": [
        "df=pd.read_csv('heart_2020_cleaned.csv')"
      ],
      "metadata": {
        "id": "jJ74od08iPi2"
      },
      "execution_count": null,
      "outputs": []
    },
    {
      "cell_type": "markdown",
      "metadata": {
        "id": "9QE3Yf-G7hTy"
      },
      "source": [
        "## Step 2: Defining the problem \n",
        "\n",
        "Using this Dataset, we would like to solve a binary classification problem:\n",
        "\n",
        "*   **HeartDisease** Column is the label and it is either Yes or No\n",
        "*   And the rest of columns are features\n",
        "\n",
        "Therefore, we would like to train a model which takes the features and predict HeartDisease!"
      ]
    },
    {
      "cell_type": "code",
      "source": [
        "#look at the columns to get an idea.\n",
        "df.head()"
      ],
      "metadata": {
        "id": "5HxLwifAJavY",
        "colab": {
          "base_uri": "https://localhost:8080/",
          "height": 270
        },
        "outputId": "3333eac1-2177-4ffa-9fcd-4f1e412ed61e"
      },
      "execution_count": null,
      "outputs": [
        {
          "output_type": "execute_result",
          "data": {
            "text/plain": [
              "  HeartDisease    BMI Smoking AlcoholDrinking Stroke  PhysicalHealth  \\\n",
              "0           No  16.60     Yes              No     No             3.0   \n",
              "1           No  20.34      No              No    Yes             0.0   \n",
              "2           No  26.58     Yes              No     No            20.0   \n",
              "3           No  24.21      No              No     No             0.0   \n",
              "4           No  23.71      No              No     No            28.0   \n",
              "\n",
              "   MentalHealth DiffWalking     Sex  AgeCategory   Race Diabetic  \\\n",
              "0          30.0          No  Female        55-59  White      Yes   \n",
              "1           0.0          No  Female  80 or older  White       No   \n",
              "2          30.0          No    Male        65-69  White      Yes   \n",
              "3           0.0          No  Female        75-79  White       No   \n",
              "4           0.0         Yes  Female        40-44  White       No   \n",
              "\n",
              "  PhysicalActivity  GenHealth  SleepTime Asthma KidneyDisease SkinCancer  \n",
              "0              Yes  Very good        5.0    Yes            No        Yes  \n",
              "1              Yes  Very good        7.0     No            No         No  \n",
              "2              Yes       Fair        8.0    Yes            No         No  \n",
              "3               No       Good        6.0     No            No        Yes  \n",
              "4              Yes  Very good        8.0     No            No         No  "
            ],
            "text/html": [
              "\n",
              "  <div id=\"df-5e36f14a-e9d3-4836-b2a1-909947225be3\">\n",
              "    <div class=\"colab-df-container\">\n",
              "      <div>\n",
              "<style scoped>\n",
              "    .dataframe tbody tr th:only-of-type {\n",
              "        vertical-align: middle;\n",
              "    }\n",
              "\n",
              "    .dataframe tbody tr th {\n",
              "        vertical-align: top;\n",
              "    }\n",
              "\n",
              "    .dataframe thead th {\n",
              "        text-align: right;\n",
              "    }\n",
              "</style>\n",
              "<table border=\"1\" class=\"dataframe\">\n",
              "  <thead>\n",
              "    <tr style=\"text-align: right;\">\n",
              "      <th></th>\n",
              "      <th>HeartDisease</th>\n",
              "      <th>BMI</th>\n",
              "      <th>Smoking</th>\n",
              "      <th>AlcoholDrinking</th>\n",
              "      <th>Stroke</th>\n",
              "      <th>PhysicalHealth</th>\n",
              "      <th>MentalHealth</th>\n",
              "      <th>DiffWalking</th>\n",
              "      <th>Sex</th>\n",
              "      <th>AgeCategory</th>\n",
              "      <th>Race</th>\n",
              "      <th>Diabetic</th>\n",
              "      <th>PhysicalActivity</th>\n",
              "      <th>GenHealth</th>\n",
              "      <th>SleepTime</th>\n",
              "      <th>Asthma</th>\n",
              "      <th>KidneyDisease</th>\n",
              "      <th>SkinCancer</th>\n",
              "    </tr>\n",
              "  </thead>\n",
              "  <tbody>\n",
              "    <tr>\n",
              "      <th>0</th>\n",
              "      <td>No</td>\n",
              "      <td>16.60</td>\n",
              "      <td>Yes</td>\n",
              "      <td>No</td>\n",
              "      <td>No</td>\n",
              "      <td>3.0</td>\n",
              "      <td>30.0</td>\n",
              "      <td>No</td>\n",
              "      <td>Female</td>\n",
              "      <td>55-59</td>\n",
              "      <td>White</td>\n",
              "      <td>Yes</td>\n",
              "      <td>Yes</td>\n",
              "      <td>Very good</td>\n",
              "      <td>5.0</td>\n",
              "      <td>Yes</td>\n",
              "      <td>No</td>\n",
              "      <td>Yes</td>\n",
              "    </tr>\n",
              "    <tr>\n",
              "      <th>1</th>\n",
              "      <td>No</td>\n",
              "      <td>20.34</td>\n",
              "      <td>No</td>\n",
              "      <td>No</td>\n",
              "      <td>Yes</td>\n",
              "      <td>0.0</td>\n",
              "      <td>0.0</td>\n",
              "      <td>No</td>\n",
              "      <td>Female</td>\n",
              "      <td>80 or older</td>\n",
              "      <td>White</td>\n",
              "      <td>No</td>\n",
              "      <td>Yes</td>\n",
              "      <td>Very good</td>\n",
              "      <td>7.0</td>\n",
              "      <td>No</td>\n",
              "      <td>No</td>\n",
              "      <td>No</td>\n",
              "    </tr>\n",
              "    <tr>\n",
              "      <th>2</th>\n",
              "      <td>No</td>\n",
              "      <td>26.58</td>\n",
              "      <td>Yes</td>\n",
              "      <td>No</td>\n",
              "      <td>No</td>\n",
              "      <td>20.0</td>\n",
              "      <td>30.0</td>\n",
              "      <td>No</td>\n",
              "      <td>Male</td>\n",
              "      <td>65-69</td>\n",
              "      <td>White</td>\n",
              "      <td>Yes</td>\n",
              "      <td>Yes</td>\n",
              "      <td>Fair</td>\n",
              "      <td>8.0</td>\n",
              "      <td>Yes</td>\n",
              "      <td>No</td>\n",
              "      <td>No</td>\n",
              "    </tr>\n",
              "    <tr>\n",
              "      <th>3</th>\n",
              "      <td>No</td>\n",
              "      <td>24.21</td>\n",
              "      <td>No</td>\n",
              "      <td>No</td>\n",
              "      <td>No</td>\n",
              "      <td>0.0</td>\n",
              "      <td>0.0</td>\n",
              "      <td>No</td>\n",
              "      <td>Female</td>\n",
              "      <td>75-79</td>\n",
              "      <td>White</td>\n",
              "      <td>No</td>\n",
              "      <td>No</td>\n",
              "      <td>Good</td>\n",
              "      <td>6.0</td>\n",
              "      <td>No</td>\n",
              "      <td>No</td>\n",
              "      <td>Yes</td>\n",
              "    </tr>\n",
              "    <tr>\n",
              "      <th>4</th>\n",
              "      <td>No</td>\n",
              "      <td>23.71</td>\n",
              "      <td>No</td>\n",
              "      <td>No</td>\n",
              "      <td>No</td>\n",
              "      <td>28.0</td>\n",
              "      <td>0.0</td>\n",
              "      <td>Yes</td>\n",
              "      <td>Female</td>\n",
              "      <td>40-44</td>\n",
              "      <td>White</td>\n",
              "      <td>No</td>\n",
              "      <td>Yes</td>\n",
              "      <td>Very good</td>\n",
              "      <td>8.0</td>\n",
              "      <td>No</td>\n",
              "      <td>No</td>\n",
              "      <td>No</td>\n",
              "    </tr>\n",
              "  </tbody>\n",
              "</table>\n",
              "</div>\n",
              "      <button class=\"colab-df-convert\" onclick=\"convertToInteractive('df-5e36f14a-e9d3-4836-b2a1-909947225be3')\"\n",
              "              title=\"Convert this dataframe to an interactive table.\"\n",
              "              style=\"display:none;\">\n",
              "        \n",
              "  <svg xmlns=\"http://www.w3.org/2000/svg\" height=\"24px\"viewBox=\"0 0 24 24\"\n",
              "       width=\"24px\">\n",
              "    <path d=\"M0 0h24v24H0V0z\" fill=\"none\"/>\n",
              "    <path d=\"M18.56 5.44l.94 2.06.94-2.06 2.06-.94-2.06-.94-.94-2.06-.94 2.06-2.06.94zm-11 1L8.5 8.5l.94-2.06 2.06-.94-2.06-.94L8.5 2.5l-.94 2.06-2.06.94zm10 10l.94 2.06.94-2.06 2.06-.94-2.06-.94-.94-2.06-.94 2.06-2.06.94z\"/><path d=\"M17.41 7.96l-1.37-1.37c-.4-.4-.92-.59-1.43-.59-.52 0-1.04.2-1.43.59L10.3 9.45l-7.72 7.72c-.78.78-.78 2.05 0 2.83L4 21.41c.39.39.9.59 1.41.59.51 0 1.02-.2 1.41-.59l7.78-7.78 2.81-2.81c.8-.78.8-2.07 0-2.86zM5.41 20L4 18.59l7.72-7.72 1.47 1.35L5.41 20z\"/>\n",
              "  </svg>\n",
              "      </button>\n",
              "      \n",
              "  <style>\n",
              "    .colab-df-container {\n",
              "      display:flex;\n",
              "      flex-wrap:wrap;\n",
              "      gap: 12px;\n",
              "    }\n",
              "\n",
              "    .colab-df-convert {\n",
              "      background-color: #E8F0FE;\n",
              "      border: none;\n",
              "      border-radius: 50%;\n",
              "      cursor: pointer;\n",
              "      display: none;\n",
              "      fill: #1967D2;\n",
              "      height: 32px;\n",
              "      padding: 0 0 0 0;\n",
              "      width: 32px;\n",
              "    }\n",
              "\n",
              "    .colab-df-convert:hover {\n",
              "      background-color: #E2EBFA;\n",
              "      box-shadow: 0px 1px 2px rgba(60, 64, 67, 0.3), 0px 1px 3px 1px rgba(60, 64, 67, 0.15);\n",
              "      fill: #174EA6;\n",
              "    }\n",
              "\n",
              "    [theme=dark] .colab-df-convert {\n",
              "      background-color: #3B4455;\n",
              "      fill: #D2E3FC;\n",
              "    }\n",
              "\n",
              "    [theme=dark] .colab-df-convert:hover {\n",
              "      background-color: #434B5C;\n",
              "      box-shadow: 0px 1px 3px 1px rgba(0, 0, 0, 0.15);\n",
              "      filter: drop-shadow(0px 1px 2px rgba(0, 0, 0, 0.3));\n",
              "      fill: #FFFFFF;\n",
              "    }\n",
              "  </style>\n",
              "\n",
              "      <script>\n",
              "        const buttonEl =\n",
              "          document.querySelector('#df-5e36f14a-e9d3-4836-b2a1-909947225be3 button.colab-df-convert');\n",
              "        buttonEl.style.display =\n",
              "          google.colab.kernel.accessAllowed ? 'block' : 'none';\n",
              "\n",
              "        async function convertToInteractive(key) {\n",
              "          const element = document.querySelector('#df-5e36f14a-e9d3-4836-b2a1-909947225be3');\n",
              "          const dataTable =\n",
              "            await google.colab.kernel.invokeFunction('convertToInteractive',\n",
              "                                                     [key], {});\n",
              "          if (!dataTable) return;\n",
              "\n",
              "          const docLinkHtml = 'Like what you see? Visit the ' +\n",
              "            '<a target=\"_blank\" href=https://colab.research.google.com/notebooks/data_table.ipynb>data table notebook</a>'\n",
              "            + ' to learn more about interactive tables.';\n",
              "          element.innerHTML = '';\n",
              "          dataTable['output_type'] = 'display_data';\n",
              "          await google.colab.output.renderOutput(dataTable, element);\n",
              "          const docLink = document.createElement('div');\n",
              "          docLink.innerHTML = docLinkHtml;\n",
              "          element.appendChild(docLink);\n",
              "        }\n",
              "      </script>\n",
              "    </div>\n",
              "  </div>\n",
              "  "
            ]
          },
          "metadata": {},
          "execution_count": 4
        }
      ]
    },
    {
      "cell_type": "markdown",
      "source": [
        "## Step 3: Data Encoding [2 Points]\n",
        "\n",
        "Run the following command and see the columns which are not float (nut numeric). Define a new DataFrame called `df_encoded` which has all the columns of the original dataframe encoded as numbers - do not change the column names. The new dataframe should have exactly the same number of columns and records with the same names but encoded."
      ],
      "metadata": {
        "id": "laL2vseAooHy"
      }
    },
    {
      "cell_type": "code",
      "source": [
        "df.info()"
      ],
      "metadata": {
        "colab": {
          "base_uri": "https://localhost:8080/"
        },
        "id": "mAvBE1MXogH9",
        "outputId": "9c2dea16-1ef7-44ef-8829-5f813d7c9c15"
      },
      "execution_count": null,
      "outputs": [
        {
          "output_type": "stream",
          "name": "stdout",
          "text": [
            "<class 'pandas.core.frame.DataFrame'>\n",
            "RangeIndex: 319795 entries, 0 to 319794\n",
            "Data columns (total 18 columns):\n",
            " #   Column            Non-Null Count   Dtype  \n",
            "---  ------            --------------   -----  \n",
            " 0   HeartDisease      319795 non-null  object \n",
            " 1   BMI               319795 non-null  float64\n",
            " 2   Smoking           319795 non-null  object \n",
            " 3   AlcoholDrinking   319795 non-null  object \n",
            " 4   Stroke            319795 non-null  object \n",
            " 5   PhysicalHealth    319795 non-null  float64\n",
            " 6   MentalHealth      319795 non-null  float64\n",
            " 7   DiffWalking       319795 non-null  object \n",
            " 8   Sex               319795 non-null  object \n",
            " 9   AgeCategory       319795 non-null  object \n",
            " 10  Race              319795 non-null  object \n",
            " 11  Diabetic          319795 non-null  object \n",
            " 12  PhysicalActivity  319795 non-null  object \n",
            " 13  GenHealth         319795 non-null  object \n",
            " 14  SleepTime         319795 non-null  float64\n",
            " 15  Asthma            319795 non-null  object \n",
            " 16  KidneyDisease     319795 non-null  object \n",
            " 17  SkinCancer        319795 non-null  object \n",
            "dtypes: float64(4), object(14)\n",
            "memory usage: 43.9+ MB\n"
          ]
        }
      ]
    },
    {
      "cell_type": "code",
      "source": [
        "df.columns"
      ],
      "metadata": {
        "colab": {
          "base_uri": "https://localhost:8080/"
        },
        "id": "Z9PvyrHvqH-k",
        "outputId": "9ac5d213-5f70-4d1d-d2b1-c9785bf63f09"
      },
      "execution_count": null,
      "outputs": [
        {
          "output_type": "execute_result",
          "data": {
            "text/plain": [
              "Index(['HeartDisease', 'BMI', 'Smoking', 'AlcoholDrinking', 'Stroke',\n",
              "       'PhysicalHealth', 'MentalHealth', 'DiffWalking', 'Sex', 'AgeCategory',\n",
              "       'Race', 'Diabetic', 'PhysicalActivity', 'GenHealth', 'SleepTime',\n",
              "       'Asthma', 'KidneyDisease', 'SkinCancer'],\n",
              "      dtype='object')"
            ]
          },
          "metadata": {},
          "execution_count": 6
        }
      ]
    },
    {
      "cell_type": "markdown",
      "source": [
        "Help:\n",
        "\n",
        "Copy df to df_encoded, then go through columns which are not numercial and encode them using LabelEncoder.\n",
        "\n",
        "You can form a loop that goes through every column and check the column dtype:\n",
        "\n",
        "`if df_encoded[column].dtype==object:`\n",
        "`    Do somthing!`\n"
      ],
      "metadata": {
        "id": "Ofb21dBMrW0x"
      }
    },
    {
      "cell_type": "code",
      "source": [
        "from sklearn.preprocessing import LabelEncoder\n",
        "### BEGIN SOLUTION\n",
        "\n",
        "df_encoded=df.copy()\n",
        "encoder = LabelEncoder()\n",
        "\n",
        "for i in df_encoded:\n",
        "  if df_encoded[i].dtype==object:\n",
        "    df_encoded[i] = encoder.fit_transform(df_encoded[i])\n",
        "\n",
        "\n",
        "\n",
        "### END SOLUTION"
      ],
      "metadata": {
        "id": "61gv5sgomh9p"
      },
      "execution_count": null,
      "outputs": []
    },
    {
      "cell_type": "markdown",
      "source": [
        "If you done your job correct, the followin command should show that all column dtypes are either float or integer."
      ],
      "metadata": {
        "id": "TsMMvJQ7rz5I"
      }
    },
    {
      "cell_type": "code",
      "source": [
        "df_encoded.info()"
      ],
      "metadata": {
        "colab": {
          "base_uri": "https://localhost:8080/"
        },
        "id": "7njG8RzxqxH3",
        "outputId": "a9987cc9-4143-42f0-859d-de45d56fce06"
      },
      "execution_count": null,
      "outputs": [
        {
          "output_type": "stream",
          "name": "stdout",
          "text": [
            "<class 'pandas.core.frame.DataFrame'>\n",
            "RangeIndex: 319795 entries, 0 to 319794\n",
            "Data columns (total 18 columns):\n",
            " #   Column            Non-Null Count   Dtype  \n",
            "---  ------            --------------   -----  \n",
            " 0   HeartDisease      319795 non-null  int64  \n",
            " 1   BMI               319795 non-null  float64\n",
            " 2   Smoking           319795 non-null  int64  \n",
            " 3   AlcoholDrinking   319795 non-null  int64  \n",
            " 4   Stroke            319795 non-null  int64  \n",
            " 5   PhysicalHealth    319795 non-null  float64\n",
            " 6   MentalHealth      319795 non-null  float64\n",
            " 7   DiffWalking       319795 non-null  int64  \n",
            " 8   Sex               319795 non-null  int64  \n",
            " 9   AgeCategory       319795 non-null  int64  \n",
            " 10  Race              319795 non-null  int64  \n",
            " 11  Diabetic          319795 non-null  int64  \n",
            " 12  PhysicalActivity  319795 non-null  int64  \n",
            " 13  GenHealth         319795 non-null  int64  \n",
            " 14  SleepTime         319795 non-null  float64\n",
            " 15  Asthma            319795 non-null  int64  \n",
            " 16  KidneyDisease     319795 non-null  int64  \n",
            " 17  SkinCancer        319795 non-null  int64  \n",
            "dtypes: float64(4), int64(14)\n",
            "memory usage: 43.9 MB\n"
          ]
        }
      ]
    },
    {
      "cell_type": "code",
      "source": [
        "df_encoded.head()"
      ],
      "metadata": {
        "colab": {
          "base_uri": "https://localhost:8080/",
          "height": 270
        },
        "id": "spm0LsA-jiZn",
        "outputId": "936cb479-c161-4490-f3bc-c882d642044c"
      },
      "execution_count": null,
      "outputs": [
        {
          "output_type": "execute_result",
          "data": {
            "text/plain": [
              "   HeartDisease    BMI  Smoking  AlcoholDrinking  Stroke  PhysicalHealth  \\\n",
              "0             0  16.60        1                0       0             3.0   \n",
              "1             0  20.34        0                0       1             0.0   \n",
              "2             0  26.58        1                0       0            20.0   \n",
              "3             0  24.21        0                0       0             0.0   \n",
              "4             0  23.71        0                0       0            28.0   \n",
              "\n",
              "   MentalHealth  DiffWalking  Sex  AgeCategory  Race  Diabetic  \\\n",
              "0          30.0            0    0            7     5         2   \n",
              "1           0.0            0    0           12     5         0   \n",
              "2          30.0            0    1            9     5         2   \n",
              "3           0.0            0    0           11     5         0   \n",
              "4           0.0            1    0            4     5         0   \n",
              "\n",
              "   PhysicalActivity  GenHealth  SleepTime  Asthma  KidneyDisease  SkinCancer  \n",
              "0                 1          4        5.0       1              0           1  \n",
              "1                 1          4        7.0       0              0           0  \n",
              "2                 1          1        8.0       1              0           0  \n",
              "3                 0          2        6.0       0              0           1  \n",
              "4                 1          4        8.0       0              0           0  "
            ],
            "text/html": [
              "\n",
              "  <div id=\"df-64aed0f4-2d73-466c-9e1f-e95877bdef94\">\n",
              "    <div class=\"colab-df-container\">\n",
              "      <div>\n",
              "<style scoped>\n",
              "    .dataframe tbody tr th:only-of-type {\n",
              "        vertical-align: middle;\n",
              "    }\n",
              "\n",
              "    .dataframe tbody tr th {\n",
              "        vertical-align: top;\n",
              "    }\n",
              "\n",
              "    .dataframe thead th {\n",
              "        text-align: right;\n",
              "    }\n",
              "</style>\n",
              "<table border=\"1\" class=\"dataframe\">\n",
              "  <thead>\n",
              "    <tr style=\"text-align: right;\">\n",
              "      <th></th>\n",
              "      <th>HeartDisease</th>\n",
              "      <th>BMI</th>\n",
              "      <th>Smoking</th>\n",
              "      <th>AlcoholDrinking</th>\n",
              "      <th>Stroke</th>\n",
              "      <th>PhysicalHealth</th>\n",
              "      <th>MentalHealth</th>\n",
              "      <th>DiffWalking</th>\n",
              "      <th>Sex</th>\n",
              "      <th>AgeCategory</th>\n",
              "      <th>Race</th>\n",
              "      <th>Diabetic</th>\n",
              "      <th>PhysicalActivity</th>\n",
              "      <th>GenHealth</th>\n",
              "      <th>SleepTime</th>\n",
              "      <th>Asthma</th>\n",
              "      <th>KidneyDisease</th>\n",
              "      <th>SkinCancer</th>\n",
              "    </tr>\n",
              "  </thead>\n",
              "  <tbody>\n",
              "    <tr>\n",
              "      <th>0</th>\n",
              "      <td>0</td>\n",
              "      <td>16.60</td>\n",
              "      <td>1</td>\n",
              "      <td>0</td>\n",
              "      <td>0</td>\n",
              "      <td>3.0</td>\n",
              "      <td>30.0</td>\n",
              "      <td>0</td>\n",
              "      <td>0</td>\n",
              "      <td>7</td>\n",
              "      <td>5</td>\n",
              "      <td>2</td>\n",
              "      <td>1</td>\n",
              "      <td>4</td>\n",
              "      <td>5.0</td>\n",
              "      <td>1</td>\n",
              "      <td>0</td>\n",
              "      <td>1</td>\n",
              "    </tr>\n",
              "    <tr>\n",
              "      <th>1</th>\n",
              "      <td>0</td>\n",
              "      <td>20.34</td>\n",
              "      <td>0</td>\n",
              "      <td>0</td>\n",
              "      <td>1</td>\n",
              "      <td>0.0</td>\n",
              "      <td>0.0</td>\n",
              "      <td>0</td>\n",
              "      <td>0</td>\n",
              "      <td>12</td>\n",
              "      <td>5</td>\n",
              "      <td>0</td>\n",
              "      <td>1</td>\n",
              "      <td>4</td>\n",
              "      <td>7.0</td>\n",
              "      <td>0</td>\n",
              "      <td>0</td>\n",
              "      <td>0</td>\n",
              "    </tr>\n",
              "    <tr>\n",
              "      <th>2</th>\n",
              "      <td>0</td>\n",
              "      <td>26.58</td>\n",
              "      <td>1</td>\n",
              "      <td>0</td>\n",
              "      <td>0</td>\n",
              "      <td>20.0</td>\n",
              "      <td>30.0</td>\n",
              "      <td>0</td>\n",
              "      <td>1</td>\n",
              "      <td>9</td>\n",
              "      <td>5</td>\n",
              "      <td>2</td>\n",
              "      <td>1</td>\n",
              "      <td>1</td>\n",
              "      <td>8.0</td>\n",
              "      <td>1</td>\n",
              "      <td>0</td>\n",
              "      <td>0</td>\n",
              "    </tr>\n",
              "    <tr>\n",
              "      <th>3</th>\n",
              "      <td>0</td>\n",
              "      <td>24.21</td>\n",
              "      <td>0</td>\n",
              "      <td>0</td>\n",
              "      <td>0</td>\n",
              "      <td>0.0</td>\n",
              "      <td>0.0</td>\n",
              "      <td>0</td>\n",
              "      <td>0</td>\n",
              "      <td>11</td>\n",
              "      <td>5</td>\n",
              "      <td>0</td>\n",
              "      <td>0</td>\n",
              "      <td>2</td>\n",
              "      <td>6.0</td>\n",
              "      <td>0</td>\n",
              "      <td>0</td>\n",
              "      <td>1</td>\n",
              "    </tr>\n",
              "    <tr>\n",
              "      <th>4</th>\n",
              "      <td>0</td>\n",
              "      <td>23.71</td>\n",
              "      <td>0</td>\n",
              "      <td>0</td>\n",
              "      <td>0</td>\n",
              "      <td>28.0</td>\n",
              "      <td>0.0</td>\n",
              "      <td>1</td>\n",
              "      <td>0</td>\n",
              "      <td>4</td>\n",
              "      <td>5</td>\n",
              "      <td>0</td>\n",
              "      <td>1</td>\n",
              "      <td>4</td>\n",
              "      <td>8.0</td>\n",
              "      <td>0</td>\n",
              "      <td>0</td>\n",
              "      <td>0</td>\n",
              "    </tr>\n",
              "  </tbody>\n",
              "</table>\n",
              "</div>\n",
              "      <button class=\"colab-df-convert\" onclick=\"convertToInteractive('df-64aed0f4-2d73-466c-9e1f-e95877bdef94')\"\n",
              "              title=\"Convert this dataframe to an interactive table.\"\n",
              "              style=\"display:none;\">\n",
              "        \n",
              "  <svg xmlns=\"http://www.w3.org/2000/svg\" height=\"24px\"viewBox=\"0 0 24 24\"\n",
              "       width=\"24px\">\n",
              "    <path d=\"M0 0h24v24H0V0z\" fill=\"none\"/>\n",
              "    <path d=\"M18.56 5.44l.94 2.06.94-2.06 2.06-.94-2.06-.94-.94-2.06-.94 2.06-2.06.94zm-11 1L8.5 8.5l.94-2.06 2.06-.94-2.06-.94L8.5 2.5l-.94 2.06-2.06.94zm10 10l.94 2.06.94-2.06 2.06-.94-2.06-.94-.94-2.06-.94 2.06-2.06.94z\"/><path d=\"M17.41 7.96l-1.37-1.37c-.4-.4-.92-.59-1.43-.59-.52 0-1.04.2-1.43.59L10.3 9.45l-7.72 7.72c-.78.78-.78 2.05 0 2.83L4 21.41c.39.39.9.59 1.41.59.51 0 1.02-.2 1.41-.59l7.78-7.78 2.81-2.81c.8-.78.8-2.07 0-2.86zM5.41 20L4 18.59l7.72-7.72 1.47 1.35L5.41 20z\"/>\n",
              "  </svg>\n",
              "      </button>\n",
              "      \n",
              "  <style>\n",
              "    .colab-df-container {\n",
              "      display:flex;\n",
              "      flex-wrap:wrap;\n",
              "      gap: 12px;\n",
              "    }\n",
              "\n",
              "    .colab-df-convert {\n",
              "      background-color: #E8F0FE;\n",
              "      border: none;\n",
              "      border-radius: 50%;\n",
              "      cursor: pointer;\n",
              "      display: none;\n",
              "      fill: #1967D2;\n",
              "      height: 32px;\n",
              "      padding: 0 0 0 0;\n",
              "      width: 32px;\n",
              "    }\n",
              "\n",
              "    .colab-df-convert:hover {\n",
              "      background-color: #E2EBFA;\n",
              "      box-shadow: 0px 1px 2px rgba(60, 64, 67, 0.3), 0px 1px 3px 1px rgba(60, 64, 67, 0.15);\n",
              "      fill: #174EA6;\n",
              "    }\n",
              "\n",
              "    [theme=dark] .colab-df-convert {\n",
              "      background-color: #3B4455;\n",
              "      fill: #D2E3FC;\n",
              "    }\n",
              "\n",
              "    [theme=dark] .colab-df-convert:hover {\n",
              "      background-color: #434B5C;\n",
              "      box-shadow: 0px 1px 3px 1px rgba(0, 0, 0, 0.15);\n",
              "      filter: drop-shadow(0px 1px 2px rgba(0, 0, 0, 0.3));\n",
              "      fill: #FFFFFF;\n",
              "    }\n",
              "  </style>\n",
              "\n",
              "      <script>\n",
              "        const buttonEl =\n",
              "          document.querySelector('#df-64aed0f4-2d73-466c-9e1f-e95877bdef94 button.colab-df-convert');\n",
              "        buttonEl.style.display =\n",
              "          google.colab.kernel.accessAllowed ? 'block' : 'none';\n",
              "\n",
              "        async function convertToInteractive(key) {\n",
              "          const element = document.querySelector('#df-64aed0f4-2d73-466c-9e1f-e95877bdef94');\n",
              "          const dataTable =\n",
              "            await google.colab.kernel.invokeFunction('convertToInteractive',\n",
              "                                                     [key], {});\n",
              "          if (!dataTable) return;\n",
              "\n",
              "          const docLinkHtml = 'Like what you see? Visit the ' +\n",
              "            '<a target=\"_blank\" href=https://colab.research.google.com/notebooks/data_table.ipynb>data table notebook</a>'\n",
              "            + ' to learn more about interactive tables.';\n",
              "          element.innerHTML = '';\n",
              "          dataTable['output_type'] = 'display_data';\n",
              "          await google.colab.output.renderOutput(dataTable, element);\n",
              "          const docLink = document.createElement('div');\n",
              "          docLink.innerHTML = docLinkHtml;\n",
              "          element.appendChild(docLink);\n",
              "        }\n",
              "      </script>\n",
              "    </div>\n",
              "  </div>\n",
              "  "
            ]
          },
          "metadata": {},
          "execution_count": 9
        }
      ]
    },
    {
      "cell_type": "markdown",
      "source": [
        "## Step 4: Balanced/Unbalanced\n",
        "\n",
        "Run the following command to see the histogram of the label. As you can see data is heavily unbalanced; it means we have way more data for people with **no heart disease (Label=0)** compared to data for people with **heart disease (Label=1)**"
      ],
      "metadata": {
        "id": "dR0zHb7_sFVv"
      }
    },
    {
      "cell_type": "code",
      "source": [
        "df_encoded['HeartDisease'].hist()"
      ],
      "metadata": {
        "colab": {
          "base_uri": "https://localhost:8080/",
          "height": 282
        },
        "id": "4X-m7JqfmqnD",
        "outputId": "715b864e-7eb9-449a-ac7c-1c78b63b4561"
      },
      "execution_count": null,
      "outputs": [
        {
          "output_type": "execute_result",
          "data": {
            "text/plain": [
              "<matplotlib.axes._subplots.AxesSubplot at 0x7fad66b34250>"
            ]
          },
          "metadata": {},
          "execution_count": 10
        },
        {
          "output_type": "display_data",
          "data": {
            "text/plain": [
              "<Figure size 432x288 with 1 Axes>"
            ],
            "image/png": "[encoded data removed]"
          },
          "metadata": {
            "needs_background": "light"
          }
        }
      ]
    },
    {
      "cell_type": "markdown",
      "source": [
        "## Step 5: Data Split [2 points]\n",
        "\n",
        "Use  `train_test_split` from Scikit-learn and split the Features and Label(Y) to 70% training subset and 30% test subset. Use the variable names as shown below"
      ],
      "metadata": {
        "id": "NV5WQh19s1Os"
      }
    },
    {
      "cell_type": "code",
      "metadata": {
        "id": "4hQQSBEqdOHG"
      },
      "source": [
        "from sklearn.model_selection import train_test_split\n",
        "### BEGIN SOLUTION\n",
        "\n",
        "\n",
        "X = df_encoded.drop('HeartDisease',axis=1).values\n",
        "Y = df_encoded['HeartDisease'].values\n",
        "\n",
        "X_train, X_test, Y_train, Y_test = train_test_split(X, Y, test_size=0.3)\n",
        " \n",
        "\n",
        "\n",
        "### END SOLUTION"
      ],
      "execution_count": null,
      "outputs": []
    },
    {
      "cell_type": "markdown",
      "source": [
        "## Step 6: Logistic Regression [2 points]\n",
        "\n",
        " \n",
        "\n",
        "1.   Use  `LogisticRegression` from `sklearn.linear_model` and train a classification model named `model1`\n",
        "2.   Predict the label for test data and store the predictions in a variable named `Y_test_Predicted`\n",
        "\n",
        "\n",
        "\n",
        "If you run the model with default parameters, you will get convergence warning. Increase the `max_iter` parameter till the warning disappears! You should not get any warning."
      ],
      "metadata": {
        "id": "56POu4b7zzeq"
      }
    },
    {
      "cell_type": "code",
      "source": [
        "from sklearn.linear_model import LogisticRegression\n",
        "### BEGIN SOLUTION\n",
        "\n",
        "model1 = LogisticRegression( max_iter=10000)\n",
        "model1.fit(X_train,Y_train)\n",
        "\n",
        "Y_test_Predicted=model1.predict(X_test)\n",
        "\n",
        "\n",
        "### END SOLUTION"
      ],
      "metadata": {
        "id": "WiJXeRICukAz"
      },
      "execution_count": null,
      "outputs": []
    },
    {
      "cell_type": "markdown",
      "source": [
        "## Step 7: Confusion Matrix\n",
        "\n",
        "Run the following code block and confusion matrix should show up!"
      ],
      "metadata": {
        "id": "jl5RPeBW1TWy"
      }
    },
    {
      "cell_type": "code",
      "source": [
        "from sklearn.metrics import plot_confusion_matrix\n",
        "from sklearn.metrics import accuracy_score,precision_score,recall_score,f1_score\n",
        "\n",
        "plot_confusion_matrix(model1,X_test,Y_test)\n",
        "\n",
        "print('LGC result:')\n",
        "print('Accuracy: ',accuracy_score(Y_test,Y_test_Predicted))\n",
        "print('f1_score: ',f1_score(Y_test,Y_test_Predicted))\n",
        "print('Precision: ', precision_score(Y_test,Y_test_Predicted))\n",
        "print('Recall: ', recall_score(Y_test,Y_test_Predicted))"
      ],
      "metadata": {
        "colab": {
          "base_uri": "https://localhost:8080/",
          "height": 421
        },
        "id": "2O1MoFs0zI_u",
        "outputId": "d77d28ca-ad7b-4ba1-c0c7-8a79765d82bc"
      },
      "execution_count": null,
      "outputs": [
        {
          "output_type": "stream",
          "name": "stderr",
          "text": [
            "/usr/local/lib/python3.7/dist-packages/sklearn/utils/deprecation.py:87: FutureWarning: Function plot_confusion_matrix is deprecated; Function `plot_confusion_matrix` is deprecated in 1.0 and will be removed in 1.2. Use one of the class methods: ConfusionMatrixDisplay.from_predictions or ConfusionMatrixDisplay.from_estimator.\n",
            "  warnings.warn(msg, category=FutureWarning)\n"
          ]
        },
        {
          "output_type": "stream",
          "name": "stdout",
          "text": [
            "LGC result:\n",
            "Accuracy:  0.9154775430221287\n",
            "f1_score:  0.15275310834813502\n",
            "Precision:  0.5044858523119393\n",
            "Recall:  0.09000246244767299\n"
          ]
        },
        {
          "output_type": "display_data",
          "data": {
            "text/plain": [
              "<Figure size 432x288 with 2 Axes>"
            ],
            "image/png": "[encoded data removed]"
          },
          "metadata": {
            "needs_background": "light"
          }
        }
      ]
    },
    {
      "cell_type": "markdown",
      "source": [
        "## Step 8: Something is Wrong!\n",
        "\n",
        "1.  Review the accuracy number and it should be high in contrast to f1-score. Why? \n",
        "\n",
        "2.  See the confusion matrix, you have way more data for people that are not sick and model predicted them well. But out of all the second row of your matrix (Sick people), very few were predicted well.\n",
        "\n",
        "3.  Basically, dataset is super unbalanced so if a model always says not sick not sick, you will have high overal accuracy. \n",
        "\n",
        "4.  That's why we rely on f1-score and not accuracy when data is unbalanced because we want a model which can predict sick people as well as healthy people!\n"
      ],
      "metadata": {
        "id": "zL7C3mm82vdp"
      }
    },
    {
      "cell_type": "markdown",
      "source": [
        "## Step 9: Fix the issue [2 points]\n",
        "\n",
        "When you run the following code, you will see that there is a parameter called `class_weight` which is `None`. "
      ],
      "metadata": {
        "id": "S_9S5kvv4agl"
      }
    },
    {
      "cell_type": "code",
      "source": [
        "model1.get_params()"
      ],
      "metadata": {
        "colab": {
          "base_uri": "https://localhost:8080/"
        },
        "id": "t2S93ozW1jOA",
        "outputId": "8451f801-c0b3-4985-91dc-8255c538e39b"
      },
      "execution_count": null,
      "outputs": [
        {
          "output_type": "execute_result",
          "data": {
            "text/plain": [
              "{'C': 1.0,\n",
              " 'class_weight': None,\n",
              " 'dual': False,\n",
              " 'fit_intercept': True,\n",
              " 'intercept_scaling': 1,\n",
              " 'l1_ratio': None,\n",
              " 'max_iter': 10000,\n",
              " 'multi_class': 'auto',\n",
              " 'n_jobs': None,\n",
              " 'penalty': 'l2',\n",
              " 'random_state': None,\n",
              " 'solver': 'lbfgs',\n",
              " 'tol': 0.0001,\n",
              " 'verbose': 0,\n",
              " 'warm_start': False}"
            ]
          },
          "metadata": {},
          "execution_count": 14
        }
      ]
    },
    {
      "cell_type": "markdown",
      "source": [
        "1.   Use  `LogisticRegression` from `sklearn.linear_model` and train a classification model named `model2` setting `class_weight='balanced'`. By setting this parameter, we are sampling from both classes (sick and not sick) consistantly and overcome the unbalanceness up to a certain point.\n",
        "2.   Predict the label for test data and store the predictions in a variable named `Y_test_Predicted2`\n",
        "\n",
        "\n",
        "\n",
        "If you run the model with default parameters, you will get convergence warning. Increase the `max_iter` parameter till the warning disappears! You should not get any warning."
      ],
      "metadata": {
        "id": "vc5w6jhB5MZT"
      }
    },
    {
      "cell_type": "code",
      "source": [
        "from sklearn.linear_model import LogisticRegression\n",
        "### BEGIN SOLUTION\n",
        "\n",
        "model2 = LogisticRegression(class_weight='balanced', max_iter=10000)\n",
        "model2.fit(X_train,Y_train)\n",
        "Y_test_Predicted2=model2.predict(X_test)\n",
        "\n",
        "\n",
        "### END SOLUTION"
      ],
      "metadata": {
        "id": "w4wD10uM5LRb"
      },
      "execution_count": null,
      "outputs": []
    },
    {
      "cell_type": "markdown",
      "source": [
        "## Step 10: Confusion Matrix revised\n",
        "\n",
        "Run the following code block and confusion matrix should show up! You should see:\n",
        "\n",
        "*   100% increase in f1-score and decrease in accuracy\n",
        "*   On every row, the largest value is in the diagonal cell\n",
        "\n",
        "In anotherword, model is learning instead of just saying not sick not sick!"
      ],
      "metadata": {
        "id": "SLBdQn4i8equ"
      }
    },
    {
      "cell_type": "code",
      "source": [
        "plot_confusion_matrix(model2,X_test,Y_test)\n",
        "\n",
        "print('LGC result:')\n",
        "print('Accuracy: ',accuracy_score(Y_test,Y_test_Predicted2))\n",
        "print('f1_score: ',f1_score(Y_test,Y_test_Predicted2))\n",
        "print('Precision: ', precision_score(Y_test,Y_test_Predicted2))\n",
        "print('Recall: ', recall_score(Y_test,Y_test_Predicted2))\n"
      ],
      "metadata": {
        "colab": {
          "base_uri": "https://localhost:8080/",
          "height": 421
        },
        "id": "_blJqBbvnvnB",
        "outputId": "0c9b244d-0334-4a12-fd8b-8f8b4b546527"
      },
      "execution_count": null,
      "outputs": [
        {
          "output_type": "stream",
          "name": "stderr",
          "text": [
            "/usr/local/lib/python3.7/dist-packages/sklearn/utils/deprecation.py:87: FutureWarning: Function plot_confusion_matrix is deprecated; Function `plot_confusion_matrix` is deprecated in 1.0 and will be removed in 1.2. Use one of the class methods: ConfusionMatrixDisplay.from_predictions or ConfusionMatrixDisplay.from_estimator.\n",
            "  warnings.warn(msg, category=FutureWarning)\n"
          ]
        },
        {
          "output_type": "stream",
          "name": "stdout",
          "text": [
            "LGC result:\n",
            "Accuracy:  0.7426385515796495\n",
            "f1_score:  0.33495838608021117\n",
            "Precision:  0.21437683158076193\n",
            "Recall:  0.7655749815316425\n"
          ]
        },
        {
          "output_type": "display_data",
          "data": {
            "text/plain": [
              "<Figure size 432x288 with 2 Axes>"
            ],
            "image/png": "[encoded data removed]"
          },
          "metadata": {
            "needs_background": "light"
          }
        }
      ]
    }
  ]
}
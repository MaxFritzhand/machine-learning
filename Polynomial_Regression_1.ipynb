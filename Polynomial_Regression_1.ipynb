{
  "nbformat": 4,
  "nbformat_minor": 0,
  "metadata": {
    "colab": {
      "provenance": []
    },
    "kernelspec": {
      "name": "python3",
      "display_name": "Python 3"
    },
    "language_info": {
      "name": "python"
    }
  },
  "cells": [
    {
      "cell_type": "markdown",
      "source": [
        "# Polynomial Regression - From scratch\n",
        "\n",
        "In this assignment, we would like to predict *Total Sales* based on *TV Advertisement (X1)* and *Radio advertisement(X2)*:\n",
        "\n",
        "$$Y=\\theta_0+\\theta_1X_1+\\theta_2X_1^2+\\theta_3X_2+\\theta_4X_2^2$$\n",
        "\n",
        "*As shown in the equation above, we will use <font color='red'> the features and their squared version </font> so this is a polinomial regression.*"
      ],
      "metadata": {
        "id": "aCJw8fTKi2VJ"
      }
    },
    {
      "cell_type": "markdown",
      "source": [
        "## Step 0: Import Modules"
      ],
      "metadata": {
        "id": "4Ly32BfTOpCq"
      }
    },
    {
      "cell_type": "code",
      "execution_count": null,
      "metadata": {
        "id": "DdhL4ZspOcig"
      },
      "outputs": [],
      "source": [
        "import numpy as np\n",
        "import pandas as pd\n",
        "import matplotlib.pyplot as plt"
      ]
    },
    {
      "cell_type": "markdown",
      "source": [
        "## Step 1: Setup dataset\n",
        "1.    Download the dataset (.csv file) from Kaggle https://www.kaggle.com/ishaanv/ISLR-Auto and upload it to your colab notebook\n",
        "2.    Load the csv file to a DataFrame callsed data"
      ],
      "metadata": {
        "id": "JvXvwuaVjQN2"
      }
    },
    {
      "cell_type": "code",
      "source": [
        "### BEGIN SOLUTION\n",
        "data=pd.read_csv(\"Advertising.csv\")\n",
        "### END SOLUTION"
      ],
      "metadata": {
        "id": "5HxLwifAJavY"
      },
      "execution_count": null,
      "outputs": []
    },
    {
      "cell_type": "markdown",
      "source": [
        "## Step 2: Form the features\n",
        "\n",
        "Define the following variables for the features and label.\n",
        "\n",
        "*   'X1' for $$(TV Advertisement)$$ \n",
        "*   'X1_X1' for $$(TV Advertisement)^2$$ \n",
        "*   'X2' for $$(Radio Advertisement)$$ \n",
        "*   'X2_X2' for $$(Radio Advertisement)^2$$ \n",
        "*   'Y' for Sales\n"
      ],
      "metadata": {
        "id": "39EPIvAIJx4R"
      }
    },
    {
      "cell_type": "code",
      "source": [
        "### BEGIN SOLUTION\n",
        "\n",
        "X1= data['TV']\n",
        "\n",
        "X1_X1= data['TV']**2\n",
        "\n",
        "X2= data['Radio']\n",
        "\n",
        "X2_X2= data['Radio']**2\n",
        "\n",
        "Y= data['Sales']\n",
        "\n",
        "### END SOLUTION"
      ],
      "metadata": {
        "id": "gAuzMYEGKCC9"
      },
      "execution_count": null,
      "outputs": []
    },
    {
      "cell_type": "markdown",
      "source": [
        "## Step 3: Normalization\n",
        "\n",
        "Normalize the features and label using the features defined in the previous step and store them in the following variables:\n",
        "\n",
        "* 'X1_N'\n",
        "* 'X1_X1_N'\n",
        "* 'X2_N'\n",
        "* 'X2_X2_N'\n",
        "* 'Y_N'"
      ],
      "metadata": {
        "id": "r0AXN6CsKeAR"
      }
    },
    {
      "cell_type": "code",
      "source": [
        "### BEGIN SOLUTION\n",
        "\n",
        "plt.scatter(X1,Y)\n",
        "X1_N=(X1-np.mean(X1))/np.std(X1)\n",
        "X1_X1_N=(X1_X1-np.mean(X1_X1))/np.std(X1_X1)\n",
        "X2_N=(X2-np.mean(X2))/np.std(X2)\n",
        "X2_X2_N=(X2_X2-np.mean(X2_X2))/np.std(X2_X2)\n",
        "Y_N=(Y-np.mean(Y))/np.std(Y)\n",
        "\n",
        "\n",
        "### END SOLUTION"
      ],
      "metadata": {
        "id": "7vvj5TJRLORz",
        "colab": {
          "base_uri": "https://localhost:8080/",
          "height": 265
        },
        "outputId": "8fec4cb0-47c5-411e-da72-aa9818da50b3"
      },
      "execution_count": null,
      "outputs": [
        {
          "output_type": "display_data",
          "data": {
            "text/plain": [
              "<Figure size 432x288 with 1 Axes>"
            ],
            "image/png": "[encoded data removed]"
          },
          "metadata": {
            "needs_background": "light"
          }
        }
      ]
    },
    {
      "cell_type": "markdown",
      "source": [
        "## Step 4: Forming the iteration\n",
        "\n",
        "As described in the problem statement, we would like to find a function such that: \n",
        "\n",
        ">$$Sales=\\theta_0+\\theta_1(TV Advertisement)+\\theta_2(TV Advertisement)^2+\\theta_3(Radio Advertisement)+\\theta_4(Radio Advertisement)^2$$\n",
        "\n",
        "\n",
        "\n",
        "1.   Initialize theta parameters: $$\\theta_0,\\theta_1,\\theta_2,\\theta_3,\\theta_4$$Pick a number between 0 to 0.5 for all Thetas. You will have to change these values over and over till you get the result you want\n",
        "\n",
        "2.   Initialize the learning rate eta $$\\eta$$ as a value between 0 and 0.1. You will have to change the learning rate over and over till you get the result you want.\n",
        "\n",
        "3.  Form the loss function (Mean squared error) as below:\n",
        "\n",
        ">>$J= \\frac{1}{Data Size}\\sum_{Data} (\\hat{y}-y)^2$\n",
        "\n",
        ">>>$\\hat{y}$ is the predicted value\n",
        "\n",
        ">>>$y$ is the actual value\n",
        "\n",
        "4.  Form the deravatives of Loss (J) with respect to Thetas:\n",
        "\n",
        ">>$Jt0 = \\frac{dJ}{d\\theta_0}$<br>\n",
        ">>$Jt1 = \\frac{dJ}{d\\theta_1}$<br>\n",
        ">>$Jt2 = \\frac{dJ}{d\\theta_2}$<br>\n",
        ">>$Jt3 = \\frac{dJ}{d\\theta_3}$<br>\n",
        ">>$Jt4 = \\frac{dJ}{d\\theta_4}$\n",
        "\n",
        "5.  Form the iterative procedure in which Theta values are updated based on the derivatives (Gradient Descent).\n",
        "\n",
        "<font color='red'> Important notes:\n",
        "\n",
        "\n",
        "*   It is important that you do not change the variable names in the code below\n",
        "*   When your code finishes, you need to have the final Theta values in a list called Theta; the first elelement of the list should be theta0, the second item of the list should be theta1,...\n",
        "*   You need to have a variable called J_All which records the J values as your iterative procedure runs (Append J value to the list in each iteration) so you can plot J_All in the next step.  \n",
        "*   The iterative procedure goes through all data as many times as you want (Select a number larger than 100 and below 10000)\n",
        "*   Dont forget to use the normalized features"
      ],
      "metadata": {
        "id": "VUIyYw7ELTTt"
      }
    },
    {
      "cell_type": "code",
      "source": [
        "### BEGIN SOLUTION\n",
        "theta=[0.5,0.5,0.5,0.5,0.5]\n",
        "eta=0.1\n",
        "m=len(X1)\n",
        "J_All=[]\n",
        "for iteration in range(100):\n",
        "  J= 0\n",
        "  Jt0=0\n",
        "  Jt1=0\n",
        "  Jt2=0\n",
        "  Jt3=0\n",
        "  Jt4=0\n",
        "  for i in range(m):\n",
        "    J=J+(1/m)*(theta[0]+theta[1]*X1_N[i]+theta[2]*X1_X1_N[i]+theta[3]*X2_N[i]+theta[4]*X2_X2_N[i]*X1_N[i]-Y_N[i])**2\n",
        "    Jt0=Jt0+(1/m)*2*(theta[0]+theta[1]*X1_N[i]+theta[2]*X1_X1_N[i]+theta[3]*X2_N[i]+theta[4]*X2_X2_N[i]*X1_N[i]*X1_N[i]-Y_N[i])\n",
        "    Jt1=Jt1+(1/m)*2*(theta[0]+theta[1]*X1_N[i]+theta[2]*X1_X1_N[i]+theta[3]*X2_N[i]+theta[4]*X2_X2_N[i]*X1_N[i]*X1_N[i]-Y_N[i])*X1_N[i]\n",
        "    Jt2=Jt2+(1/m)*2*(theta[0]+theta[1]*X1_N[i]+theta[2]*X1_X1_N[i]+theta[3]*X2_N[i]+theta[4]*X2_X2_N[i]*X1_N[i]*X1_N[i]-Y_N[i])*X1_N[i]*X1_N[i] \n",
        "    Jt3=Jt3+(1/m)*2*(theta[0]+theta[1]*X1_N[i]+theta[2]*X1_X1_N[i]+theta[3]*X2_N[i]+theta[4]*X2_X2_N[i]*X1_N[i]*X1_N[i]-Y_N[i])*X1_N[i]*X1_N[i]*X1_N[i]\n",
        "    Jt4=Jt4+(1/m)*2*(theta[0]+theta[1]*X1_N[i]+theta[2]*X1_X1_N[i]+theta[3]*X2_N[i]+theta[4]*X2_X2_N[i]*X1_N[i]*X1_N[i]-Y_N[i])*X1_N[i]*X1_N[i]*X1_N[i]*X1_N[i] \n",
        "J_All.append(J)\n",
        "theta[0]-=eta*Jt0\n",
        "theta[1]-=eta*Jt1\n",
        "theta[2]-=eta*Jt2\n",
        "theta[3]-=eta*Jt3\n",
        "theta[4]-=eta*Jt4\n",
        "\n",
        "  \n",
        "### END SOLUTION"
      ],
      "metadata": {
        "id": "MbEEnZAOLewL"
      },
      "execution_count": null,
      "outputs": []
    },
    {
      "cell_type": "markdown",
      "source": [
        "##Step 5: Verify the variables\n",
        "\n",
        "Run the following code block and make sure:\n",
        "*   The first line should print the eta value that you have selected\n",
        "*   The second line should print True\n",
        "*   The third line should print True"
      ],
      "metadata": {
        "id": "m2NdjxRdpEza"
      }
    },
    {
      "cell_type": "code",
      "source": [
        "print (eta)\n",
        "print (len(theta)==5)\n",
        "print (len(J_All)>100)"
      ],
      "metadata": {
        "colab": {
          "base_uri": "https://localhost:8080/"
        },
        "id": "mRS-Tmk6pEDx",
        "outputId": "eb528c53-b728-4370-8913-c9f84429b553"
      },
      "execution_count": null,
      "outputs": [
        {
          "output_type": "stream",
          "name": "stdout",
          "text": [
            "0.1\n",
            "True\n",
            "False\n"
          ]
        }
      ]
    },
    {
      "cell_type": "markdown",
      "source": [
        "## Step 6: Create a loss plot\n",
        "\n",
        "Run the following code and you should see the loss going down as the number of iteration increases"
      ],
      "metadata": {
        "id": "HsUh6W10LhmV"
      }
    },
    {
      "cell_type": "code",
      "source": [
        "plt.plot(J_All)"
      ],
      "metadata": {
        "id": "lfJ2IUPcLi0H",
        "colab": {
          "base_uri": "https://localhost:8080/",
          "height": 282
        },
        "outputId": "d282f2e3-5ae6-4dbd-9080-607a9d7c25ab"
      },
      "execution_count": null,
      "outputs": [
        {
          "output_type": "execute_result",
          "data": {
            "text/plain": [
              "[<matplotlib.lines.Line2D at 0x7f7fc6c658d0>]"
            ]
          },
          "metadata": {},
          "execution_count": 23
        },
        {
          "output_type": "display_data",
          "data": {
            "text/plain": [
              "<Figure size 432x288 with 1 Axes>"
            ],
            "image/png": "[encoded data removed]"
          },
          "metadata": {
            "needs_background": "light"
          }
        }
      ]
    },
    {
      "cell_type": "markdown",
      "source": [
        "## Step 7: Form the predictions\n",
        "\n",
        "Use the final Theta values and normalized features to form the prediction variable\n"
      ],
      "metadata": {
        "id": "_nvHLdouLmSE"
      }
    },
    {
      "cell_type": "code",
      "source": [
        "### BEGIN SOLUTION\n",
        "X1_N = np.linspace(0,200,100)\n",
        "Predicted= theta[4]*(X1_N**2)+theta[3]*(X1_N)+theta[2]*(X1_N**2)+theta[1]*X1_N+theta[0]\n",
        "plt.plot(X1_N,Predicted,color='blue')\n",
        "### END SOLUTION"
      ],
      "metadata": {
        "id": "iCRGz059LpOe",
        "colab": {
          "base_uri": "https://localhost:8080/",
          "height": 284
        },
        "outputId": "46d31eaf-de60-40cc-9758-697fc6cec293"
      },
      "execution_count": null,
      "outputs": [
        {
          "output_type": "execute_result",
          "data": {
            "text/plain": [
              "[<matplotlib.lines.Line2D at 0x7f7fc6bcf110>]"
            ]
          },
          "metadata": {},
          "execution_count": 25
        },
        {
          "output_type": "display_data",
          "data": {
            "text/plain": [
              "<Figure size 432x288 with 1 Axes>"
            ],
            "image/png": "[encoded data removed]"
          },
          "metadata": {
            "needs_background": "light"
          }
        }
      ]
    },
    {
      "cell_type": "markdown",
      "source": [
        "Step 8: Verify the predictions \n",
        "\n",
        "Run the following commands, you should be able to see the actual values in blue and predicted values in red."
      ],
      "metadata": {
        "id": "dFxBHaPSsF_9"
      }
    },
    {
      "cell_type": "code",
      "source": [
        "plt.scatter(X1_N,Y_N)\n",
        "plt.scatter(X1_N,Predicted,color='red')\n",
        "plt.xlabel('TV Advertisement')\n",
        "plt.ylabel('Sales')\n",
        "plt.figure()\n",
        "plt.scatter(X2_N,Y_N)\n",
        "plt.scatter(X2_N,Predicted,color='red')\n",
        "plt.xlabel('Radio Advertisement')\n",
        "plt.ylabel('Sales')"
      ],
      "metadata": {
        "id": "owSoS_5EODIT",
        "colab": {
          "base_uri": "https://localhost:8080/",
          "height": 650
        },
        "outputId": "fdd2a156-8a04-490b-e082-348e89f00247"
      },
      "execution_count": null,
      "outputs": [
        {
          "output_type": "error",
          "ename": "ValueError",
          "evalue": "ignored",
          "traceback": [
            "\u001b[0;31m---------------------------------------------------------------------------\u001b[0m",
            "\u001b[0;31mValueError\u001b[0m                                Traceback (most recent call last)",
            "\u001b[0;32m<ipython-input-24-ca041d07af8c>\u001b[0m in \u001b[0;36m<module>\u001b[0;34m\u001b[0m\n\u001b[0;32m----> 1\u001b[0;31m \u001b[0mplt\u001b[0m\u001b[0;34m.\u001b[0m\u001b[0mscatter\u001b[0m\u001b[0;34m(\u001b[0m\u001b[0mX1_N\u001b[0m\u001b[0;34m,\u001b[0m\u001b[0mY_N\u001b[0m\u001b[0;34m)\u001b[0m\u001b[0;34m\u001b[0m\u001b[0;34m\u001b[0m\u001b[0m\n\u001b[0m\u001b[1;32m      2\u001b[0m \u001b[0mplt\u001b[0m\u001b[0;34m.\u001b[0m\u001b[0mscatter\u001b[0m\u001b[0;34m(\u001b[0m\u001b[0mX1_N\u001b[0m\u001b[0;34m,\u001b[0m\u001b[0mPredicted\u001b[0m\u001b[0;34m,\u001b[0m\u001b[0mcolor\u001b[0m\u001b[0;34m=\u001b[0m\u001b[0;34m'red'\u001b[0m\u001b[0;34m)\u001b[0m\u001b[0;34m\u001b[0m\u001b[0;34m\u001b[0m\u001b[0m\n\u001b[1;32m      3\u001b[0m \u001b[0mplt\u001b[0m\u001b[0;34m.\u001b[0m\u001b[0mxlabel\u001b[0m\u001b[0;34m(\u001b[0m\u001b[0;34m'TV Advertisement'\u001b[0m\u001b[0;34m)\u001b[0m\u001b[0;34m\u001b[0m\u001b[0;34m\u001b[0m\u001b[0m\n\u001b[1;32m      4\u001b[0m \u001b[0mplt\u001b[0m\u001b[0;34m.\u001b[0m\u001b[0mylabel\u001b[0m\u001b[0;34m(\u001b[0m\u001b[0;34m'Sales'\u001b[0m\u001b[0;34m)\u001b[0m\u001b[0;34m\u001b[0m\u001b[0;34m\u001b[0m\u001b[0m\n\u001b[1;32m      5\u001b[0m \u001b[0mplt\u001b[0m\u001b[0;34m.\u001b[0m\u001b[0mfigure\u001b[0m\u001b[0;34m(\u001b[0m\u001b[0;34m)\u001b[0m\u001b[0;34m\u001b[0m\u001b[0;34m\u001b[0m\u001b[0m\n",
            "\u001b[0;32m/usr/local/lib/python3.7/dist-packages/matplotlib/pyplot.py\u001b[0m in \u001b[0;36mscatter\u001b[0;34m(x, y, s, c, marker, cmap, norm, vmin, vmax, alpha, linewidths, verts, edgecolors, plotnonfinite, data, **kwargs)\u001b[0m\n\u001b[1;32m   2814\u001b[0m         \u001b[0mverts\u001b[0m\u001b[0;34m=\u001b[0m\u001b[0mverts\u001b[0m\u001b[0;34m,\u001b[0m \u001b[0medgecolors\u001b[0m\u001b[0;34m=\u001b[0m\u001b[0medgecolors\u001b[0m\u001b[0;34m,\u001b[0m\u001b[0;34m\u001b[0m\u001b[0;34m\u001b[0m\u001b[0m\n\u001b[1;32m   2815\u001b[0m         plotnonfinite=plotnonfinite, **({\"data\": data} if data is not\n\u001b[0;32m-> 2816\u001b[0;31m         None else {}), **kwargs)\n\u001b[0m\u001b[1;32m   2817\u001b[0m     \u001b[0msci\u001b[0m\u001b[0;34m(\u001b[0m\u001b[0m__ret\u001b[0m\u001b[0;34m)\u001b[0m\u001b[0;34m\u001b[0m\u001b[0;34m\u001b[0m\u001b[0m\n\u001b[1;32m   2818\u001b[0m     \u001b[0;32mreturn\u001b[0m \u001b[0m__ret\u001b[0m\u001b[0;34m\u001b[0m\u001b[0;34m\u001b[0m\u001b[0m\n",
            "\u001b[0;32m/usr/local/lib/python3.7/dist-packages/matplotlib/__init__.py\u001b[0m in \u001b[0;36minner\u001b[0;34m(ax, data, *args, **kwargs)\u001b[0m\n\u001b[1;32m   1563\u001b[0m     \u001b[0;32mdef\u001b[0m \u001b[0minner\u001b[0m\u001b[0;34m(\u001b[0m\u001b[0max\u001b[0m\u001b[0;34m,\u001b[0m \u001b[0;34m*\u001b[0m\u001b[0margs\u001b[0m\u001b[0;34m,\u001b[0m \u001b[0mdata\u001b[0m\u001b[0;34m=\u001b[0m\u001b[0;32mNone\u001b[0m\u001b[0;34m,\u001b[0m \u001b[0;34m**\u001b[0m\u001b[0mkwargs\u001b[0m\u001b[0;34m)\u001b[0m\u001b[0;34m:\u001b[0m\u001b[0;34m\u001b[0m\u001b[0;34m\u001b[0m\u001b[0m\n\u001b[1;32m   1564\u001b[0m         \u001b[0;32mif\u001b[0m \u001b[0mdata\u001b[0m \u001b[0;32mis\u001b[0m \u001b[0;32mNone\u001b[0m\u001b[0;34m:\u001b[0m\u001b[0;34m\u001b[0m\u001b[0;34m\u001b[0m\u001b[0m\n\u001b[0;32m-> 1565\u001b[0;31m             \u001b[0;32mreturn\u001b[0m \u001b[0mfunc\u001b[0m\u001b[0;34m(\u001b[0m\u001b[0max\u001b[0m\u001b[0;34m,\u001b[0m \u001b[0;34m*\u001b[0m\u001b[0mmap\u001b[0m\u001b[0;34m(\u001b[0m\u001b[0msanitize_sequence\u001b[0m\u001b[0;34m,\u001b[0m \u001b[0margs\u001b[0m\u001b[0;34m)\u001b[0m\u001b[0;34m,\u001b[0m \u001b[0;34m**\u001b[0m\u001b[0mkwargs\u001b[0m\u001b[0;34m)\u001b[0m\u001b[0;34m\u001b[0m\u001b[0;34m\u001b[0m\u001b[0m\n\u001b[0m\u001b[1;32m   1566\u001b[0m \u001b[0;34m\u001b[0m\u001b[0m\n\u001b[1;32m   1567\u001b[0m         \u001b[0mbound\u001b[0m \u001b[0;34m=\u001b[0m \u001b[0mnew_sig\u001b[0m\u001b[0;34m.\u001b[0m\u001b[0mbind\u001b[0m\u001b[0;34m(\u001b[0m\u001b[0max\u001b[0m\u001b[0;34m,\u001b[0m \u001b[0;34m*\u001b[0m\u001b[0margs\u001b[0m\u001b[0;34m,\u001b[0m \u001b[0;34m**\u001b[0m\u001b[0mkwargs\u001b[0m\u001b[0;34m)\u001b[0m\u001b[0;34m\u001b[0m\u001b[0;34m\u001b[0m\u001b[0m\n",
            "\u001b[0;32m/usr/local/lib/python3.7/dist-packages/matplotlib/cbook/deprecation.py\u001b[0m in \u001b[0;36mwrapper\u001b[0;34m(*args, **kwargs)\u001b[0m\n\u001b[1;32m    356\u001b[0m                 \u001b[0;34mf\"%(removal)s.  If any parameter follows {name!r}, they \"\u001b[0m\u001b[0;34m\u001b[0m\u001b[0;34m\u001b[0m\u001b[0m\n\u001b[1;32m    357\u001b[0m                 f\"should be pass as keyword, not positionally.\")\n\u001b[0;32m--> 358\u001b[0;31m         \u001b[0;32mreturn\u001b[0m \u001b[0mfunc\u001b[0m\u001b[0;34m(\u001b[0m\u001b[0;34m*\u001b[0m\u001b[0margs\u001b[0m\u001b[0;34m,\u001b[0m \u001b[0;34m**\u001b[0m\u001b[0mkwargs\u001b[0m\u001b[0;34m)\u001b[0m\u001b[0;34m\u001b[0m\u001b[0;34m\u001b[0m\u001b[0m\n\u001b[0m\u001b[1;32m    359\u001b[0m \u001b[0;34m\u001b[0m\u001b[0m\n\u001b[1;32m    360\u001b[0m     \u001b[0;32mreturn\u001b[0m \u001b[0mwrapper\u001b[0m\u001b[0;34m\u001b[0m\u001b[0;34m\u001b[0m\u001b[0m\n",
            "\u001b[0;32m/usr/local/lib/python3.7/dist-packages/matplotlib/axes/_axes.py\u001b[0m in \u001b[0;36mscatter\u001b[0;34m(self, x, y, s, c, marker, cmap, norm, vmin, vmax, alpha, linewidths, verts, edgecolors, plotnonfinite, **kwargs)\u001b[0m\n\u001b[1;32m   4389\u001b[0m         \u001b[0my\u001b[0m \u001b[0;34m=\u001b[0m \u001b[0mnp\u001b[0m\u001b[0;34m.\u001b[0m\u001b[0mma\u001b[0m\u001b[0;34m.\u001b[0m\u001b[0mravel\u001b[0m\u001b[0;34m(\u001b[0m\u001b[0my\u001b[0m\u001b[0;34m)\u001b[0m\u001b[0;34m\u001b[0m\u001b[0;34m\u001b[0m\u001b[0m\n\u001b[1;32m   4390\u001b[0m         \u001b[0;32mif\u001b[0m \u001b[0mx\u001b[0m\u001b[0;34m.\u001b[0m\u001b[0msize\u001b[0m \u001b[0;34m!=\u001b[0m \u001b[0my\u001b[0m\u001b[0;34m.\u001b[0m\u001b[0msize\u001b[0m\u001b[0;34m:\u001b[0m\u001b[0;34m\u001b[0m\u001b[0;34m\u001b[0m\u001b[0m\n\u001b[0;32m-> 4391\u001b[0;31m             \u001b[0;32mraise\u001b[0m \u001b[0mValueError\u001b[0m\u001b[0;34m(\u001b[0m\u001b[0;34m\"x and y must be the same size\"\u001b[0m\u001b[0;34m)\u001b[0m\u001b[0;34m\u001b[0m\u001b[0;34m\u001b[0m\u001b[0m\n\u001b[0m\u001b[1;32m   4392\u001b[0m \u001b[0;34m\u001b[0m\u001b[0m\n\u001b[1;32m   4393\u001b[0m         \u001b[0;32mif\u001b[0m \u001b[0ms\u001b[0m \u001b[0;32mis\u001b[0m \u001b[0;32mNone\u001b[0m\u001b[0;34m:\u001b[0m\u001b[0;34m\u001b[0m\u001b[0;34m\u001b[0m\u001b[0m\n",
            "\u001b[0;31mValueError\u001b[0m: x and y must be the same size"
          ]
        },
        {
          "output_type": "display_data",
          "data": {
            "text/plain": [
              "<Figure size 432x288 with 1 Axes>"
            ],
            "image/png": "[encoded data removed]"
          },
          "metadata": {
            "needs_background": "light"
          }
        }
      ]
    }
  ]
}